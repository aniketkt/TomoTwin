{
 "cells": [
  {
   "cell_type": "markdown",
   "metadata": {},
   "source": [
    "Author: Aniket Tekawade\n",
    "\n",
    "# Explore the generators module in porespy.  \n",
    "\n",
    "https://porespy.readthedocs.io/en/master/modules/generators.html  "
   ]
  },
  {
   "cell_type": "code",
   "execution_count": 1,
   "metadata": {},
   "outputs": [
    {
     "ename": "ModuleNotFoundError",
     "evalue": "No module named 'PG_filtering'",
     "output_type": "error",
     "traceback": [
      "\u001b[0;31m---------------------------------------------------------------------------\u001b[0m",
      "\u001b[0;31mModuleNotFoundError\u001b[0m                       Traceback (most recent call last)",
      "\u001b[0;32m<ipython-input-1-5517e3d8e858>\u001b[0m in \u001b[0;36m<module>\u001b[0;34m\u001b[0m\n\u001b[1;32m      8\u001b[0m \u001b[0;32mfrom\u001b[0m \u001b[0mct_segnet\u001b[0m \u001b[0;32mimport\u001b[0m \u001b[0mviewer\u001b[0m\u001b[0;34m\u001b[0m\u001b[0;34m\u001b[0m\u001b[0m\n\u001b[1;32m      9\u001b[0m \u001b[0;34m\u001b[0m\u001b[0m\n\u001b[0;32m---> 10\u001b[0;31m \u001b[0;32mfrom\u001b[0m \u001b[0mtomo_twin\u001b[0m \u001b[0;32mimport\u001b[0m \u001b[0mray\u001b[0m\u001b[0;34m\u001b[0m\u001b[0;34m\u001b[0m\u001b[0m\n\u001b[0m\u001b[1;32m     11\u001b[0m \u001b[0;32mfrom\u001b[0m \u001b[0mtomo_twin\u001b[0m \u001b[0;32mimport\u001b[0m \u001b[0mgt_generators\u001b[0m\u001b[0;34m\u001b[0m\u001b[0;34m\u001b[0m\u001b[0m\n\u001b[1;32m     12\u001b[0m \u001b[0;34m\u001b[0m\u001b[0m\n",
      "\u001b[0;32m~/anaconda3/envs/tf2GPU/lib/python3.7/site-packages/tomo_twin/ray.py\u001b[0m in \u001b[0;36m<module>\u001b[0;34m\u001b[0m\n\u001b[1;32m     25\u001b[0m \u001b[0;32mfrom\u001b[0m \u001b[0mtomopy\u001b[0m \u001b[0;32mimport\u001b[0m \u001b[0mproject\u001b[0m\u001b[0;34m\u001b[0m\u001b[0;34m\u001b[0m\u001b[0m\n\u001b[1;32m     26\u001b[0m \u001b[0;32mfrom\u001b[0m \u001b[0mscipy\u001b[0m\u001b[0;34m.\u001b[0m\u001b[0mndimage\u001b[0m\u001b[0;34m.\u001b[0m\u001b[0mfilters\u001b[0m \u001b[0;32mimport\u001b[0m \u001b[0mgaussian_filter\u001b[0m\u001b[0;34m\u001b[0m\u001b[0;34m\u001b[0m\u001b[0m\n\u001b[0;32m---> 27\u001b[0;31m \u001b[0;32mfrom\u001b[0m \u001b[0mPG_filtering\u001b[0m \u001b[0;32mimport\u001b[0m \u001b[0madd_phase_contrast\u001b[0m\u001b[0;34m\u001b[0m\u001b[0;34m\u001b[0m\u001b[0m\n\u001b[0m\u001b[1;32m     28\u001b[0m \u001b[0;34m\u001b[0m\u001b[0m\n\u001b[1;32m     29\u001b[0m \u001b[0mmodel_data_path\u001b[0m \u001b[0;34m=\u001b[0m \u001b[0;34m'../model_data'\u001b[0m\u001b[0;34m\u001b[0m\u001b[0;34m\u001b[0m\u001b[0m\n",
      "\u001b[0;31mModuleNotFoundError\u001b[0m: No module named 'PG_filtering'"
     ]
    }
   ],
   "source": [
    "%matplotlib inline\n",
    "\n",
    "import numpy as np\n",
    "import matplotlib.pyplot as plt\n",
    "import pandas as pd\n",
    "\n",
    "from ct_segnet.data_utils.data_io import DataFile\n",
    "from ct_segnet import viewer\n",
    "\n",
    "from tomo_twin import ray\n",
    "from tomo_twin import gt_generators\n",
    "\n",
    "# import ipywidgets.interact class, this class will represent a slide bar.\n",
    "from ipywidgets import interact\n",
    "import ipywidgets as widgets\n",
    "from ipywidgets import HBox, VBox, Layout\n",
    "from IPython.display import display\n",
    "figw = 16\n"
   ]
  },
  {
   "cell_type": "markdown",
   "metadata": {},
   "source": [
    "### Determine phantom shape / size  "
   ]
  },
  {
   "cell_type": "code",
   "execution_count": null,
   "metadata": {},
   "outputs": [],
   "source": [
    "obj_shape = (200,256,256)\n",
    "from porespy import generators"
   ]
  },
  {
   "cell_type": "markdown",
   "metadata": {},
   "source": [
    "### Porous (Blob) Phantom"
   ]
  },
  {
   "cell_type": "code",
   "execution_count": null,
   "metadata": {},
   "outputs": [],
   "source": [
    "vol = generators.blobs(shape=obj_shape, porosity=0.5, blobiness=0.5).astype(np.uint8)\n",
    "# vol = vol + generators.blobs(shape=obj_shape, porosity=0.1, blobiness=3).astype(np.uint8)"
   ]
  },
  {
   "cell_type": "code",
   "execution_count": null,
   "metadata": {},
   "outputs": [],
   "source": [
    "fig, ax = plt.subplots(1,3, figsize = (figw,figw/3))\n",
    "h = viewer.view_midplanes(vol, ax = ax)"
   ]
  },
  {
   "cell_type": "markdown",
   "metadata": {},
   "source": [
    "### Bundle of Tubes  "
   ]
  },
  {
   "cell_type": "code",
   "execution_count": null,
   "metadata": {},
   "outputs": [],
   "source": [
    "vol = generators.bundle_of_tubes(shape = obj_shape, spacing = 50)\n",
    "fig, ax = plt.subplots(1,3, figsize = (figw,figw/3))\n",
    "h = viewer.view_midplanes(vol, ax = ax)"
   ]
  },
  {
   "cell_type": "markdown",
   "metadata": {},
   "source": [
    "### Overlapping Cylinders (Fibrous Mat)  "
   ]
  },
  {
   "cell_type": "code",
   "execution_count": null,
   "metadata": {},
   "outputs": [],
   "source": [
    "vol = generators.cylinders(shape = obj_shape, radius = 3, \\\n",
    "                           ncylinders=2000, \\\n",
    "                           theta_max = 10, \\\n",
    "                           phi_max = 10, \\\n",
    "                           length = None)\n",
    "fig, ax = plt.subplots(1,3, figsize = (figw,figw/3))\n",
    "h = viewer.view_midplanes(vol, ax = ax)\n",
    "print(vol.shape)"
   ]
  },
  {
   "cell_type": "markdown",
   "metadata": {},
   "source": [
    "### Lattice Spheres  "
   ]
  },
  {
   "cell_type": "code",
   "execution_count": null,
   "metadata": {},
   "outputs": [],
   "source": [
    "vol = generators.lattice_spheres(shape = obj_shape, \\\n",
    "                                 radius = 7,\\\n",
    "                                 offset=3, \\\n",
    "                                 lattice = 'bcc')\n",
    "fig, ax = plt.subplots(1,3, figsize = (figw,figw/3))\n",
    "h = viewer.view_midplanes(vol, ax = ax)"
   ]
  },
  {
   "cell_type": "markdown",
   "metadata": {},
   "source": [
    "### Overlapping Spheres  "
   ]
  },
  {
   "cell_type": "code",
   "execution_count": null,
   "metadata": {},
   "outputs": [],
   "source": [
    "vol = generators.overlapping_spheres(shape = obj_shape, \\\n",
    "                                 radius = 7,\\\n",
    "                                 porosity = 0.9,\\\n",
    "                                 iter_max = 10,\\\n",
    "                                     tol = 0.01)\n",
    "fig, ax = plt.subplots(1,3, figsize = (figw,figw/3))\n",
    "h = viewer.view_midplanes(vol, ax = ax)"
   ]
  },
  {
   "cell_type": "markdown",
   "metadata": {},
   "source": [
    "### Polydisperse Spheres  "
   ]
  },
  {
   "cell_type": "code",
   "execution_count": null,
   "metadata": {},
   "outputs": [],
   "source": [
    "from scipy import stats"
   ]
  },
  {
   "cell_type": "code",
   "execution_count": null,
   "metadata": {},
   "outputs": [],
   "source": [
    "dist = stats.uniform(loc = 8, scale = 4)\n",
    "vol = generators.polydisperse_spheres(shape = obj_shape, \\\n",
    "                                 porosity = 0.9,\\\n",
    "                                 dist = dist, \\\n",
    "                                      nbins = 7)\n",
    "fig, ax = plt.subplots(1,3, figsize = (figw,figw/3))\n",
    "h = viewer.view_midplanes(vol, ax = ax)"
   ]
  },
  {
   "cell_type": "markdown",
   "metadata": {},
   "source": [
    "### Sphere or disk packing with Random Sequential Addition  "
   ]
  },
  {
   "cell_type": "code",
   "execution_count": null,
   "metadata": {},
   "outputs": [],
   "source": [
    "vol = generators.RSA(np.zeros(obj_shape), \\\n",
    "                     radius = 50, \\\n",
    "                     volume_fraction=0.7, \\\n",
    "                     mode = 'extended')\n",
    "fig, ax = plt.subplots(1,3, figsize = (figw,figw/3))\n",
    "h = viewer.view_midplanes(vol, ax = ax)"
   ]
  },
  {
   "cell_type": "markdown",
   "metadata": {},
   "source": [
    "### Voronoi Edges  "
   ]
  },
  {
   "cell_type": "code",
   "execution_count": null,
   "metadata": {},
   "outputs": [],
   "source": [
    "vol = generators.voronoi_edges(shape = obj_shape, \\\n",
    "                               radius = 25, \\\n",
    "                               ncells = 25, \\\n",
    "                               flat_faces = False)\n",
    "fig, ax = plt.subplots(1,3, figsize = (figw,figw/3))\n",
    "h = viewer.view_midplanes(vol, ax = ax)"
   ]
  },
  {
   "cell_type": "markdown",
   "metadata": {},
   "source": [
    "### Custom material with inclusions  "
   ]
  },
  {
   "cell_type": "markdown",
   "metadata": {},
   "source": [
    "For the blob generator, the value of porosity -> 1 means there are no pores. Porosity -> 0 means it is mostly pores. The more contiguous the pore phase becomes. In the limit of high blobiness and low porosity, you get a material with inclusions (higher label value is the inclusions).  "
   ]
  },
  {
   "cell_type": "code",
   "execution_count": null,
   "metadata": {},
   "outputs": [],
   "source": [
    "vol_f = gt_generators.make_voids_inclusions(obj_shape, void_size = 0.2, \\\n",
    "                              void_numerosity=0.5, \\\n",
    "                              inclusion_size=0.10, \\\n",
    "                              inclusion_numerosity=5.0)"
   ]
  },
  {
   "cell_type": "code",
   "execution_count": null,
   "metadata": {},
   "outputs": [],
   "source": [
    "fig, ax = plt.subplots(1,3, figsize = (figw,figw/3))\n",
    "h = viewer.view_midplanes(vol_f, ax = ax)"
   ]
  },
  {
   "cell_type": "code",
   "execution_count": null,
   "metadata": {},
   "outputs": [],
   "source": []
  },
  {
   "cell_type": "code",
   "execution_count": null,
   "metadata": {},
   "outputs": [],
   "source": []
  },
  {
   "cell_type": "code",
   "execution_count": null,
   "metadata": {},
   "outputs": [],
   "source": []
  },
  {
   "cell_type": "code",
   "execution_count": null,
   "metadata": {},
   "outputs": [],
   "source": []
  },
  {
   "cell_type": "code",
   "execution_count": null,
   "metadata": {},
   "outputs": [],
   "source": []
  },
  {
   "cell_type": "code",
   "execution_count": null,
   "metadata": {},
   "outputs": [],
   "source": []
  },
  {
   "cell_type": "code",
   "execution_count": null,
   "metadata": {},
   "outputs": [],
   "source": []
  }
 ],
 "metadata": {
  "kernelspec": {
   "display_name": "Python CTSegNet==2.0 (tf=2.0)",
   "language": "python",
   "name": "tf2gpu"
  },
  "language_info": {
   "codemirror_mode": {
    "name": "ipython",
    "version": 3
   },
   "file_extension": ".py",
   "mimetype": "text/x-python",
   "name": "python",
   "nbconvert_exporter": "python",
   "pygments_lexer": "ipython3",
   "version": "3.7.7"
  }
 },
 "nbformat": 4,
 "nbformat_minor": 4
}
